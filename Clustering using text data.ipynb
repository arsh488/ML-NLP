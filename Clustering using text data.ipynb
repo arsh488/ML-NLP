{
 "cells": [
  {
   "cell_type": "code",
   "execution_count": 1,
   "metadata": {},
   "outputs": [],
   "source": []
  },
  {
   "cell_type": "code",
   "execution_count": null,
   "metadata": {},
   "outputs": [],
   "source": [
    "document = [\"This is the most beautiful place in the world.\", \n",
    "            \"This man has more skills to show in cricket than any other game.\", \n",
    "            \"Hi there! how was your ladakh trip last month?\"\n",
    "            \"There was a player who had scored 200+ runs in single cricket innings in his career.\",\n",
    "            \"I have got the opportunity to travel to Paris next year for my internship.\",\n",
    "            \"May be he is better than you in batting but you are much better than him in bowling.\",\n",
    "            \"That was really a great day for me when I was there at Lavasa for the whole night.\", \n",
    "            \"That’s exactly I wanted to become, a highest ratting batsmen ever with top scores.\",\n",
    "            \"Does it really matter wether you go to Thailand or Goa, its just you have spend your holidays.\",\n",
    "            \"Why don’t you go to Switzerland next year for your 25th Wedding anniversary?\",\n",
    "            \"Travel is fatal to prejudice, bigotry, and narrow mindedness., and many of our people need it sorely on these accounts.\",\n",
    "            \"Stop worrying about the potholes in the road and enjoy the journey.\",\n",
    "            \"No cricket team in the world depends on one or two players. The team always plays to win.\",\n",
    "            \"Cricket is a team game. If you want fame for yourself, go play an individual game.\",\n",
    "            \"Because in the end, you won’t remember the time you spent working in the office or mowing your lawn. Climb that goddamn mountain.\",\n",
    "            \"Isn’t cricket supposed to be a team sport? I feel people should decide first whether cricket is a team game or an individual sport.\"]"
   ]
  },
  {
   "cell_type": "code",
   "execution_count": 2,
   "metadata": {},
   "outputs": [],
   "source": [
    "from sklearn.feature_extraction.text import TfidfVectorizer\n",
    "from sklearn.cluster import KMeans\n",
    "import numpy as np\n",
    "import pandas as pd"
   ]
  },
  {
   "cell_type": "code",
   "execution_count": 3,
   "metadata": {},
   "outputs": [
    {
     "data": {
      "text/plain": [
       "15"
      ]
     },
     "execution_count": 3,
     "metadata": {},
     "output_type": "execute_result"
    }
   ],
   "source": [
    "len(document)"
   ]
  },
  {
   "cell_type": "code",
   "execution_count": 4,
   "metadata": {},
   "outputs": [
    {
     "data": {
      "text/plain": [
       "(15, 92)"
      ]
     },
     "execution_count": 4,
     "metadata": {},
     "output_type": "execute_result"
    }
   ],
   "source": [
    "vectorizer = TfidfVectorizer(stop_words='english')\n",
    "X = vectorizer.fit_transform(document)\n",
    "X.shape"
   ]
  },
  {
   "cell_type": "code",
   "execution_count": 5,
   "metadata": {},
   "outputs": [
    {
     "data": {
      "text/plain": [
       "KMeans(algorithm='auto', copy_x=True, init='k-means++', max_iter=300,\n",
       "       n_clusters=2, n_init=10, n_jobs=None, precompute_distances='auto',\n",
       "       random_state=None, tol=0.0001, verbose=0)"
      ]
     },
     "execution_count": 5,
     "metadata": {},
     "output_type": "execute_result"
    }
   ],
   "source": [
    "model = KMeans(n_clusters=2)\n",
    "model.fit(X)"
   ]
  },
  {
   "cell_type": "code",
   "execution_count": 6,
   "metadata": {},
   "outputs": [
    {
     "data": {
      "text/plain": [
       "(2, 92)"
      ]
     },
     "execution_count": 6,
     "metadata": {},
     "output_type": "execute_result"
    }
   ],
   "source": [
    "order_centroids = model.cluster_centers_.argsort()[:, ::-1]\n",
    "order_centroids.shape"
   ]
  },
  {
   "cell_type": "code",
   "execution_count": 7,
   "metadata": {},
   "outputs": [
    {
     "data": {
      "text/plain": [
       "['200',\n",
       " '25th',\n",
       " 'accounts',\n",
       " 'anniversary',\n",
       " 'batsmen',\n",
       " 'batting',\n",
       " 'beautiful',\n",
       " 'better',\n",
       " 'bigotry',\n",
       " 'bowling',\n",
       " 'career',\n",
       " 'climb',\n",
       " 'cricket',\n",
       " 'day',\n",
       " 'decide',\n",
       " 'depends',\n",
       " 'does',\n",
       " 'don',\n",
       " 'end',\n",
       " 'enjoy',\n",
       " 'exactly',\n",
       " 'fame',\n",
       " 'fatal',\n",
       " 'feel',\n",
       " 'game',\n",
       " 'goa',\n",
       " 'goddamn',\n",
       " 'got',\n",
       " 'great',\n",
       " 'hi',\n",
       " 'highest',\n",
       " 'holidays',\n",
       " 'individual',\n",
       " 'innings',\n",
       " 'internship',\n",
       " 'isn',\n",
       " 'journey',\n",
       " 'just',\n",
       " 'ladakh',\n",
       " 'lavasa',\n",
       " 'lawn',\n",
       " 'man',\n",
       " 'matter',\n",
       " 'mindedness',\n",
       " 'month',\n",
       " 'mountain',\n",
       " 'mowing',\n",
       " 'narrow',\n",
       " 'need',\n",
       " 'night',\n",
       " 'office',\n",
       " 'opportunity',\n",
       " 'paris',\n",
       " 'people',\n",
       " 'place',\n",
       " 'play',\n",
       " 'player',\n",
       " 'players',\n",
       " 'plays',\n",
       " 'potholes',\n",
       " 'prejudice',\n",
       " 'ratting',\n",
       " 'really',\n",
       " 'remember',\n",
       " 'road',\n",
       " 'runs',\n",
       " 'scored',\n",
       " 'scores',\n",
       " 'single',\n",
       " 'skills',\n",
       " 'sorely',\n",
       " 'spend',\n",
       " 'spent',\n",
       " 'sport',\n",
       " 'stop',\n",
       " 'supposed',\n",
       " 'switzerland',\n",
       " 'team',\n",
       " 'thailand',\n",
       " 'time',\n",
       " 'travel',\n",
       " 'trip',\n",
       " 'want',\n",
       " 'wanted',\n",
       " 'wedding',\n",
       " 'wether',\n",
       " 'win',\n",
       " 'won',\n",
       " 'working',\n",
       " 'world',\n",
       " 'worrying',\n",
       " 'year']"
      ]
     },
     "execution_count": 7,
     "metadata": {},
     "output_type": "execute_result"
    }
   ],
   "source": [
    "terms = vectorizer.get_feature_names()\n",
    "terms"
   ]
  },
  {
   "cell_type": "code",
   "execution_count": 8,
   "metadata": {},
   "outputs": [
    {
     "data": {
      "text/plain": [
       "92"
      ]
     },
     "execution_count": 8,
     "metadata": {},
     "output_type": "execute_result"
    }
   ],
   "source": [
    "len(terms)"
   ]
  },
  {
   "cell_type": "code",
   "execution_count": 9,
   "metadata": {},
   "outputs": [
    {
     "name": "stdout",
     "output_type": "stream",
     "text": [
      "Cluster 0:\n",
      "better\n",
      "year\n",
      "really\n",
      "travel\n",
      "place\n",
      "beautiful\n",
      "world\n",
      "night\n",
      "great\n",
      "day\n",
      "Cluster 1:\n",
      "cricket\n",
      "team\n",
      "game\n",
      "man\n",
      "skills\n",
      "individual\n",
      "sport\n",
      "play\n",
      "want\n",
      "fame\n"
     ]
    }
   ],
   "source": [
    "for i in range(2):\n",
    "    print(f\"Cluster {i}:\")\n",
    "    for index in order_centroids[i, :10]:\n",
    "        print(terms[index])"
   ]
  },
  {
   "cell_type": "code",
   "execution_count": 10,
   "metadata": {},
   "outputs": [
    {
     "name": "stdout",
     "output_type": "stream",
     "text": [
      "[1]\n"
     ]
    }
   ],
   "source": [
    "# 0-Travel\n",
    "# 1-Cricket\n",
    "\n",
    "y= vectorizer.transform([\"Nothing is easy in cricket. Maybe when you watch it on TV, it looks easy. But it is not. You have to use your brain and time the ball.\"])\n",
    "predicted = model.predict(y)\n",
    "print(predicted)"
   ]
  },
  {
   "cell_type": "code",
   "execution_count": null,
   "metadata": {},
   "outputs": [],
   "source": []
  }
 ],
 "metadata": {
  "kernelspec": {
   "display_name": "Python 3",
   "language": "python",
   "name": "python3"
  },
  "language_info": {
   "codemirror_mode": {
    "name": "ipython",
    "version": 3
   },
   "file_extension": ".py",
   "mimetype": "text/x-python",
   "name": "python",
   "nbconvert_exporter": "python",
   "pygments_lexer": "ipython3",
   "version": "3.7.5"
  }
 },
 "nbformat": 4,
 "nbformat_minor": 2
}
